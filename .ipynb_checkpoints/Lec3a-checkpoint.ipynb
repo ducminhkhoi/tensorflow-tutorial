{
 "cells": [
  {
   "cell_type": "code",
   "execution_count": 17,
   "metadata": {
    "collapsed": false
   },
   "outputs": [
    {
     "name": "stdout",
     "output_type": "stream",
     "text": [
      "7776\n"
     ]
    }
   ],
   "source": [
    "# Review Lecture 2\n",
    "%run global_variables.py \n",
    "\n",
    "a = 2\n",
    "b = 3\n",
    "x = tf.add(a, b)\n",
    "y = tf.multiply(a, b)\n",
    "z = tf.pow(y, x)\n",
    "\n",
    "sess = tf.Session()\n",
    "writer = tf.summary.FileWriter(\"./graphs\", sess.graph)\n",
    "print(sess.run(z))\n",
    "\n",
    "sess.close()\n",
    "\n",
    "def mserror(Y, Y_predict):\n",
    "    return np.square(Y - Y_predict)\n"
   ]
  },
  {
   "cell_type": "code",
   "execution_count": 6,
   "metadata": {
    "collapsed": false
   },
   "outputs": [
    {
     "name": "stdout",
     "output_type": "stream",
     "text": [
      "1.71838 15.7892 391.253740868\n"
     ]
    },
    {
     "data": {
      "image/png": "[encoded data removed]",
      "text/plain": [
       "<matplotlib.figure.Figure at 0x1236be4e0>"
      ]
     },
     "metadata": {},
     "output_type": "display_data"
    }
   ],
   "source": [
    "\"\"\"\n",
    "Simple linear regression example in TensorFlow\n",
    "This program tries to predict the number of thefts from \n",
    "the number of fire in the city of Chicago\n",
    "\"\"\"\n",
    "%matplotlib inline\n",
    "import numpy as np\n",
    "import matplotlib.pyplot as plt\n",
    "import tensorflow as tf\n",
    "import xlrd\n",
    "\n",
    "DATA_FILE = 'fire_theft.xls'\n",
    "\n",
    "# Step 1: read in data from the .xls file\n",
    "book = xlrd.open_workbook(DATA_FILE, encoding_override=\"utf-8\")\n",
    "sheet = book.sheet_by_index(0)\n",
    "data = np.asarray([sheet.row_values(i) for i in range(1, sheet.nrows)])\n",
    "n_samples = sheet.nrows - 1\n",
    "\n",
    "# Step 2: create placeholders for input X (number of fire) and label Y (number of theft)\n",
    "X = tf.placeholder(tf.float32, name='X')\n",
    "Y = tf.placeholder(tf.float32, name='Y')\n",
    "\n",
    "# Step 3: create weight and bias, initialized to 0\n",
    "w = tf.Variable(0.0, name='weights')\n",
    "b = tf.Variable(0.0, name='bias')\n",
    "\n",
    "# Step 4: build model to predict Y\n",
    "Y_predicted = X * w + b \n",
    "\n",
    "# Step 5: use the square error as the loss function\n",
    "loss = tf.square(Y - Y_predicted, name='loss')\n",
    "\n",
    "# Step 6: using gradient descent with learning rate of 0.01 to minimize loss\n",
    "optimizer = tf.train.GradientDescentOptimizer(learning_rate=0.001).minimize(loss)\n",
    "\n",
    "with tf.Session() as sess:\n",
    "\t# Step 7: initialize the necessary variables, in this case, w and b\n",
    "\tsess.run(tf.global_variables_initializer()) \n",
    "\t\n",
    "\twriter = tf.summary.FileWriter('./my_graph/03/linear_reg', sess.graph)\n",
    "\t\n",
    "\t# Step 8: train the model\n",
    "\tfor i in range(100): # train the model 100 times\n",
    "\t\ttotal_loss = 0\n",
    "\t\tfor x, y in data:\n",
    "\t\t\t# Session runs train_op and fetch values of loss\n",
    "\t\t\t_, l = sess.run([optimizer, loss], feed_dict={X: x, Y:y}) \n",
    "\t\t\ttotal_loss += l\n",
    "# \t\tprint 'Epoch {0}: {1}'.format(i, total_loss/n_samples)\n",
    "\t# close the writer when you're done using it\n",
    "\twriter.close() \n",
    "\t\n",
    "\t# Step 9: output the values of w and b\n",
    "\tw_value, b_value = sess.run([w, b]) \n",
    "\n",
    "# plot the results\n",
    "X, Y = data.T[0], data.T[1]\n",
    "print(w_value, b_value, mserror(Y, X*w_value + b_value))\n",
    "plt.plot(X, Y, 'bo', label='Real data')\n",
    "plt.plot(X, X * w_value + b_value, 'r', label='Predicted data')\n",
    "plt.legend()\n",
    "plt.show()"
   ]
  },
  {
   "cell_type": "code",
   "execution_count": 16,
   "metadata": {
    "collapsed": false
   },
   "outputs": [
    {
     "name": "stdout",
     "output_type": "stream",
     "text": [
      "[[ 2.40462875]] [ 2.31441665] 470.144275263\n"
     ]
    },
    {
     "data": {
      "image/png": "[encoded data removed]",
      "text/plain": [
       "<matplotlib.figure.Figure at 0x1254ff9e8>"
      ]
     },
     "metadata": {},
     "output_type": "display_data"
    }
   ],
   "source": [
    "# Keras equivalence\n",
    "\n",
    "%matplotlib inline\n",
    "import tensorflow\n",
    "import keras\n",
    "from keras.models import Model, Input\n",
    "from keras.layers.core import Dense\n",
    "from keras.optimizers import SGD\n",
    "from keras import backend as K\n",
    "import xlrd\n",
    "import numpy as np\n",
    "from functools import partial\n",
    "import matplotlib.pyplot as plt\n",
    "\n",
    "def mserror(Y, Y_predict):\n",
    "    return np.mean(np.square(Y - Y_predict))\n",
    "\n",
    "DATA_FILE = 'fire_theft.xls'\n",
    "\n",
    "# Step 1: read in data from the .xls file\n",
    "book = xlrd.open_workbook(DATA_FILE, encoding_override=\"utf-8\")\n",
    "sheet = book.sheet_by_index(0)\n",
    "data = np.asarray([sheet.row_values(i) for i in range(1, sheet.nrows)])\n",
    "\n",
    "X = data[:,0].reshape((-1,1))\n",
    "Y = data[:,1].reshape((-1,1))\n",
    "\n",
    "n_samples = sheet.nrows - 1\n",
    "\n",
    "def custom_loss(y_true, y_pred):\n",
    "    return K.square(y_true - y_pred)\n",
    "\n",
    "def huber_loss(y_true, y_pred, delta=1.0):\n",
    "    residual = K.abs(y_pred - y_true)[0,0]\n",
    "    condition = K.less(residual, delta)\n",
    "    small_res = 0.5 * K.square(residual)\n",
    "    large_res = delta * residual - 0.5 * K.square(delta)\n",
    "    return K.switch(condition, small_res, large_res)\n",
    "\n",
    "x = Input(shape=(1,), dtype='float32')\n",
    "y_predict = Dense(1) (x)\n",
    "\n",
    "model1 = Model(inputs=x, outputs=y_predict)\n",
    "\n",
    "model1.compile(SGD(0.001), loss=custom_loss)\n",
    "\n",
    "model1.fit(X, Y, epochs=100, verbose=0)\n",
    "\n",
    "w_1, b_1 = model1.layers[1].get_weights()\n",
    "print(w_1, b_1, mserror(Y, X * w_1[0] + b_1))\n",
    "\n",
    "plt.plot(X, Y, 'bo', label='Real data')\n",
    "plt.plot(X, X * w_1[0] + b_1, 'r', label='Predicted data mean loss')\n",
    "plt.legend()\n",
    "plt.show()"
   ]
  },
  {
   "cell_type": "code",
   "execution_count": null,
   "metadata": {
    "collapsed": true
   },
   "outputs": [],
   "source": []
  }
 ],
 "metadata": {
  "kernelspec": {
   "display_name": "py36-conda",
   "language": "python",
   "name": "py36-conda"
  },
  "language_info": {
   "codemirror_mode": {
    "name": "ipython",
    "version": 3
   },
   "file_extension": ".py",
   "mimetype": "text/x-python",
   "name": "python",
   "nbconvert_exporter": "python",
   "pygments_lexer": "ipython3",
   "version": "3.6.0"
  }
 },
 "nbformat": 4,
 "nbformat_minor": 2
}
