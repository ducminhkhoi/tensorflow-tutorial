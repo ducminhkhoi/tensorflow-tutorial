{
 "cells": [
  {
   "cell_type": "markdown",
   "metadata": {
    "collapsed": true
   },
   "source": [
    "# Description:\n",
    "- In this section I will demo the real tensorflow code with output from the slide http://web.stanford.edu/class/cs20si/lectures/slides_02.pdf. \n",
    "- I also show Keras equivalent API as well as sometimes so how to combine them when keras equivalent API does not have.\n"
   ]
  },
  {
   "cell_type": "code",
   "execution_count": null,
   "metadata": {},
   "outputs": [],
   "source": [
    "import tensorflow as tf\n",
    "from keras import backend as K\n",
    "\n",
    "\n",
    "def eval(x):\n",
    "    with tf.Session() as sess:\n",
    "        return sess.run(x)"
   ]
  },
  {
   "cell_type": "code",
   "execution_count": 44,
   "metadata": {},
   "outputs": [
    {
     "name": "stdout",
     "output_type": "stream",
     "text": [
      "5\n5.0\n"
     ]
    }
   ],
   "source": [
    "\"\"\"Visualize it with TensorBoard\"\"\"\n",
    "\n",
    "# test TF\n",
    "a = tf.constant(2, name=\"a\")\n",
    "b = tf.constant(3, name=\"b\")\n",
    "x = tf.add(a, b, name=\"add\")\n",
    "writer = tf.summary.FileWriter(\"./graphs\", sess.graph)\n",
    "print eval(x)\n",
    "\n",
    "# test Keras\n",
    "a = K.variable(2, name='a')\n",
    "b = K.variable(3, name='b')\n",
    "x = a + b\n",
    "print K.eval(x)"
   ]
  },
  {
   "cell_type": "code",
   "execution_count": 45,
   "metadata": {},
   "outputs": [
    {
     "name": "stdout",
     "output_type": "stream",
     "text": [
      "[[2 3]\n [4 5]]\n[[0 2]\n [4 6]]\n[[ 2.  3.]\n [ 4.  5.]]\n[[ 0.  2.]\n [ 4.  6.]]\n"
     ]
    }
   ],
   "source": [
    "\"\"\"tf.constant(value, dtype=None, shape=None, name='Const', verify_shape=False)\"\"\"\n",
    "\n",
    "# test TF\n",
    "a = tf.constant([2, 2], name='a')\n",
    "b = tf.constant([[0, 1], [2, 3]], name='b')\n",
    "x = tf.add(a, b, name='add')\n",
    "y = tf.multiply(a, b, name='mul')\n",
    "\n",
    "x_o, y_o = eval([x, y])\n",
    "\n",
    "print x_o\n",
    "print y_o\n",
    "\n",
    "\n",
    "# test Keras\n",
    "a = K.variable([2, 2], name='a')\n",
    "b = K.variable([[0, 1], [2, 3]], name='b')\n",
    "x = a + b\n",
    "y = a * b\n",
    "print K.eval(x)\n",
    "print K.eval(y)"
   ]
  },
  {
   "cell_type": "code",
   "execution_count": 50,
   "metadata": {},
   "outputs": [
    {
     "name": "stdout",
     "output_type": "stream",
     "text": [
      "[[0 0 0]\n [0 0 0]]\n[[ 0.  0.  0.]\n [ 0.  0.  0.]]\n"
     ]
    }
   ],
   "source": [
    "\"\"\"tf.zeros(shape, dtype=tf.float32, name=None)\n",
    "creates a tensor of shape and all elements will be zeros (when ran in session)\n",
    "\"\"\"\n",
    "\n",
    "x = tf.zeros([2, 3], tf.int32)\n",
    "print eval(x)\n",
    "\n",
    "# keras\n",
    "\n",
    "x = K.zeros([2, 3], dtype='float32')\n",
    "print K.eval(x)"
   ]
  },
  {
   "cell_type": "code",
   "execution_count": 51,
   "metadata": {},
   "outputs": [
    {
     "name": "stdout",
     "output_type": "stream",
     "text": [
      "[[0 0]\n [0 0]\n [0 0]]\n[[0 0]\n [0 0]\n [0 0]]\n"
     ]
    }
   ],
   "source": [
    "\"\"\"tf.zeros_like(input_tensor, dtype=None, name=None, optimize=True)\n",
    "creates a tensor of shape and type (unless type is specified) as the input_tensor but all elements are zeros.\n",
    "\n",
    "tf.ones(shape, dtype=tf.float32, name=None)\n",
    "tf.ones_like(input_tensor, dtype=None, name=None, optimize=True)\n",
    "\"\"\"\n",
    "\n",
    "input_tensor = [[0, 1], [2, 3], [4, 5]]\n",
    "x = tf.zeros_like(input_tensor)\n",
    "\n",
    "print eval(x)\n",
    "\n",
    "# Keras\n",
    "x = K.zeros_like(input_tensor)\n",
    "print K.eval(x)"
   ]
  },
  {
   "cell_type": "code",
   "execution_count": 55,
   "metadata": {},
   "outputs": [
    {
     "name": "stdout",
     "output_type": "stream",
     "text": [
      "[[8 8 8]\n [8 8 8]]\n[[ 8.  8.  8.]\n [ 8.  8.  8.]]\n"
     ]
    }
   ],
   "source": [
    "\"\"\"tf.fill(dims, value, name=None) \n",
    "creates a tensor filled with a scalar value.\n",
    "\n",
    "\"\"\"\n",
    "\n",
    "x = tf.fill([2, 3], 8)\n",
    "\n",
    "print eval(x)\n",
    "\n",
    "# Keras\n",
    "x = 8 * K.ones((2,3), dtype='float32')\n",
    "print K.eval(x)"
   ]
  },
  {
   "cell_type": "code",
   "execution_count": 75,
   "metadata": {},
   "outputs": [
    {
     "name": "stdout",
     "output_type": "stream",
     "text": [
      "[ 10.  11.  12.  13.]\n[ 3  6  9 12]"
     ]
    },
    {
     "name": "stdout",
     "output_type": "stream",
     "text": [
      "\n[ 10.  11.  12.  13.]"
     ]
    },
    {
     "name": "stdout",
     "output_type": "stream",
     "text": [
      "\n[ 3  6  9 12]"
     ]
    },
    {
     "name": "stdout",
     "output_type": "stream",
     "text": [
      "\n[ 20.  22.  24.  26.]\n"
     ]
    }
   ],
   "source": [
    "\"\"\"Constant as sequence\n",
    "tf.linspace(start, stop, num, name=None) # slightly different from np.linspace\n",
    "tf.range(start, limit=None, delta=1, dtype=None, name='range')\n",
    "\"\"\"\n",
    "\n",
    "# Test TF\n",
    "    \n",
    "x = tf.linspace(10.0, 13.0, 4)\n",
    "print eval(x)\n",
    "\n",
    "y = tf.range(3, 13, 3)\n",
    "print eval(y)\n",
    "\n",
    "# Test Keras\n",
    "x1 = K.variable(np.linspace(10.0, 13.0, 4))\n",
    "print K.eval(x)\n",
    "\n",
    "y1 = K.arange(5)\n",
    "print K.eval(y)\n",
    "\n",
    "# mix keras with tf easily\n",
    "z = x + x1\n",
    "print K.eval(z)"
   ]
  },
  {
   "cell_type": "code",
   "execution_count": 76,
   "metadata": {},
   "outputs": [
    {
     "name": "stdout",
     "output_type": "stream",
     "text": [
      "[[ 0.16967137  0.86939454 -0.16643368]\n [ 0.3247923  -0.27238673 -1.15250576]]\n[[ 0.08613408  0.70415497  0.11248028]\n [ 0.6262598   0.74641204  0.6851263 ]]"
     ]
    },
    {
     "name": "stdout",
     "output_type": "stream",
     "text": [
      "\n[[ 0.9811095  -0.07128934 -0.42899767]\n [ 0.01736452  1.45493162 -0.62472349]]"
     ]
    },
    {
     "name": "stdout",
     "output_type": "stream",
     "text": [
      "\n[[ 0.64149487  0.45819783  0.02861166]\n [ 0.81258011  0.54619575  0.16919816]]"
     ]
    },
    {
     "name": "stdout",
     "output_type": "stream",
     "text": [
      "\n"
     ]
    }
   ],
   "source": [
    "\"\"\"\n",
    "Randomly Generated Constants\n",
    "tf.random_normal(shape, mean=0.0, stddev=1.0, dtype=tf.float32, seed=None, name=None)\n",
    "tf.truncated_normal(shape, mean=0.0, stddev=1.0, dtype=tf.float32, seed=None, name=None) # Keras doesn't have\n",
    "tf.random_uniform(shape, minval=0, maxval=None, dtype=tf.float32, seed=None, name=None)\n",
    "tf.random_shuffle(value, seed=None, name=None) # Keras doesn't have\n",
    "tf.random_crop(value, size, seed=None, name=None) # Keras doesn't have\n",
    "tf.multinomial(logits, num_samples, seed=None, name=None) # Keras doesn't have\n",
    "tf.random_gamma(shape, alpha, beta=None, dtype=tf.float32, seed=None, name=None) # Keras doesn't have\n",
    "tf.set_random_seed(seed) # Keras doesn't have\n",
    "\"\"\"\n",
    "\n",
    "x1 = tf.random_normal((2,3))\n",
    "print eval(x1)\n",
    "x2 = tf.random_uniform((2,3))\n",
    "print eval(x2)\n",
    "\n",
    "x1 = K.random_normal((2,3))\n",
    "print eval(x1)\n",
    "x2 = K.random_uniform((2,3))\n",
    "print eval(x2)"
   ]
  }
 ],
 "metadata": {
  "kernelspec": {
   "display_name": "Python 2",
   "language": "python",
   "name": "python2"
  },
  "language_info": {
   "codemirror_mode": {
    "name": "ipython",
    "version": 2.0
   },
   "file_extension": ".py",
   "mimetype": "text/x-python",
   "name": "python",
   "nbconvert_exporter": "python",
   "pygments_lexer": "ipython2",
   "version": "2.7.6"
  }
 },
 "nbformat": 4,
 "nbformat_minor": 0
}