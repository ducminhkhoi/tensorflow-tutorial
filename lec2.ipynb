{
 "cells": [
  {
   "cell_type": "markdown",
   "metadata": {
    "collapsed": true,
    "deletable": true,
    "editable": true
   },
   "source": [
    "# TensorFlow Ops:\n",
    "\n",
    "In this section, we will demo the second tutorial http://web.stanford.edu/class/cs20si/lectures/slides_02.pdf \n",
    "\n",
    "We also include the equivalent Keras code.\n"
   ]
  },
  {
   "cell_type": "code",
   "execution_count": 10,
   "metadata": {
    "collapsed": false,
    "deletable": true,
    "editable": true
   },
   "outputs": [],
   "source": [
    "%run global_variables.py"
   ]
  },
  {
   "cell_type": "code",
   "execution_count": 11,
   "metadata": {
    "collapsed": false,
    "deletable": true,
    "editable": true
   },
   "outputs": [
    {
     "name": "stdout",
     "output_type": "stream",
     "text": [
      "5\n",
      "5.0\n"
     ]
    }
   ],
   "source": [
    "\"\"\"Visualize it with TensorBoard\"\"\"\n",
    "\n",
    "# test TF\n",
    "a = tf.constant(2, name=\"a\")\n",
    "b = tf.constant(3, name=\"b\")\n",
    "x = tf.add(a, b, name=\"add\")\n",
    "writer = tf.summary.FileWriter(\"./graphs\", sess.graph)\n",
    "print eval(x)\n",
    "\n",
    "# test Keras\n",
    "a = K.variable(2, name='a')\n",
    "b = K.variable(3, name='b')\n",
    "x = a + b\n",
    "print K.eval(x)"
   ]
  },
  {
   "cell_type": "code",
   "execution_count": 45,
   "metadata": {
    "collapsed": false,
    "deletable": true,
    "editable": true
   },
   "outputs": [
    {
     "name": "stdout",
     "output_type": "stream",
     "text": [
      "[[2 3]\n",
      " [4 5]]\n",
      "[[0 2]\n",
      " [4 6]]\n",
      "[[ 2.  3.]\n",
      " [ 4.  5.]]\n",
      "[[ 0.  2.]\n",
      " [ 4.  6.]]\n"
     ]
    }
   ],
   "source": [
    "\"\"\"tf.constant(value, dtype=None, shape=None, name='Const', verify_shape=False)\"\"\"\n",
    "\n",
    "# test TF\n",
    "a = tf.constant([2, 2], name='a')\n",
    "b = tf.constant([[0, 1], [2, 3]], name='b')\n",
    "x = tf.add(a, b, name='add')\n",
    "y = tf.multiply(a, b, name='mul')\n",
    "\n",
    "x_o, y_o = eval([x, y])\n",
    "\n",
    "print x_o\n",
    "print y_o\n",
    "\n",
    "\n",
    "# test Keras\n",
    "a = K.variable([2, 2], name='a')\n",
    "b = K.variable([[0, 1], [2, 3]], name='b')\n",
    "x = a + b\n",
    "y = a * b\n",
    "print K.eval(x)\n",
    "print K.eval(y)"
   ]
  },
  {
   "cell_type": "code",
   "execution_count": 50,
   "metadata": {
    "collapsed": false,
    "deletable": true,
    "editable": true
   },
   "outputs": [
    {
     "name": "stdout",
     "output_type": "stream",
     "text": [
      "[[0 0 0]\n",
      " [0 0 0]]\n",
      "[[ 0.  0.  0.]\n",
      " [ 0.  0.  0.]]\n"
     ]
    }
   ],
   "source": [
    "\"\"\"tf.zeros(shape, dtype=tf.float32, name=None)\n",
    "creates a tensor of shape and all elements will be zeros (when ran in session)\n",
    "\"\"\"\n",
    "\n",
    "x = tf.zeros([2, 3], tf.int32)\n",
    "print eval(x)\n",
    "\n",
    "# keras\n",
    "\n",
    "x = K.zeros([2, 3], dtype='float32')\n",
    "print K.eval(x)"
   ]
  },
  {
   "cell_type": "code",
   "execution_count": 51,
   "metadata": {
    "collapsed": false,
    "deletable": true,
    "editable": true
   },
   "outputs": [
    {
     "name": "stdout",
     "output_type": "stream",
     "text": [
      "[[0 0]\n",
      " [0 0]\n",
      " [0 0]]\n",
      "[[0 0]\n",
      " [0 0]\n",
      " [0 0]]\n"
     ]
    }
   ],
   "source": [
    "\"\"\"tf.zeros_like(input_tensor, dtype=None, name=None, optimize=True)\n",
    "creates a tensor of shape and type (unless type is specified) as the input_tensor but all elements are zeros.\n",
    "\n",
    "tf.ones(shape, dtype=tf.float32, name=None)\n",
    "tf.ones_like(input_tensor, dtype=None, name=None, optimize=True)\n",
    "\"\"\"\n",
    "\n",
    "input_tensor = [[0, 1], [2, 3], [4, 5]]\n",
    "x = tf.zeros_like(input_tensor)\n",
    "\n",
    "print eval(x)\n",
    "\n",
    "# Keras\n",
    "x = K.zeros_like(input_tensor)\n",
    "print K.eval(x)"
   ]
  },
  {
   "cell_type": "code",
   "execution_count": 3,
   "metadata": {
    "collapsed": false,
    "deletable": true,
    "editable": true
   },
   "outputs": [
    {
     "name": "stdout",
     "output_type": "stream",
     "text": [
      "[[8 8 8]\n",
      " [8 8 8]]\n",
      "[[ 8.  8.  8.]\n",
      " [ 8.  8.  8.]]\n"
     ]
    }
   ],
   "source": [
    "\"\"\"tf.fill(dims, value, name=None) \n",
    "creates a tensor filled with a scalar value.\n",
    "\n",
    "\"\"\"\n",
    "\n",
    "x = tf.fill([2, 3], 8)\n",
    "\n",
    "print eval(x)\n",
    "\n",
    "# Keras\n",
    "x = 8 * K.ones((2,3), dtype='float32')\n",
    "print K.eval(x)"
   ]
  },
  {
   "cell_type": "code",
   "execution_count": 75,
   "metadata": {
    "collapsed": false,
    "deletable": true,
    "editable": true
   },
   "outputs": [
    {
     "name": "stdout",
     "output_type": "stream",
     "text": [
      "[ 10.  11.  12.  13.]\n",
      "[ 3  6  9 12]\n",
      "[ 10.  11.  12.  13.]\n",
      "[ 3  6  9 12]\n",
      "[ 20.  22.  24.  26.]\n"
     ]
    }
   ],
   "source": [
    "\"\"\"Constant as sequence\n",
    "tf.linspace(start, stop, num, name=None) # slightly different from np.linspace\n",
    "tf.range(start, limit=None, delta=1, dtype=None, name='range')\n",
    "\"\"\"\n",
    "\n",
    "# Test TF\n",
    "    \n",
    "x = tf.linspace(10.0, 13.0, 4)\n",
    "print eval(x)\n",
    "\n",
    "y = tf.range(3, 13, 3)\n",
    "print eval(y)\n",
    "\n",
    "# Test Keras\n",
    "x1 = K.variable(np.linspace(10.0, 13.0, 4))\n",
    "print K.eval(x)\n",
    "\n",
    "y1 = K.arange(5)\n",
    "print K.eval(y)\n",
    "\n",
    "# mix keras with tf easily\n",
    "z = x + x1\n",
    "print K.eval(z)"
   ]
  },
  {
   "cell_type": "code",
   "execution_count": 80,
   "metadata": {
    "collapsed": false,
    "deletable": true,
    "editable": true
   },
   "outputs": [
    {
     "name": "stdout",
     "output_type": "stream",
     "text": [
      "[[ 0.97839284 -0.07782374 -1.08000886]\n",
      " [-1.50186384 -0.059723    0.22159982]]\n",
      "[[ 0.72305012  0.72165501  0.99812424]\n",
      " [ 0.718279    0.93321419  0.40319037]]\n",
      "[[  1.45784068e+00  -2.30176046e-01  -7.34288692e-01]\n",
      " [ -4.68101352e-01   2.67075688e-01   4.76315676e-04]]\n",
      "[[ 0.21128476  0.17148471  0.35090828]\n",
      " [ 0.34566164  0.81865156  0.08582115]]\n"
     ]
    }
   ],
   "source": [
    "\"\"\"\n",
    "Randomly Generated Constants\n",
    "tf.random_normal(shape, mean=0.0, stddev=1.0, dtype=tf.float32, seed=None, name=None)\n",
    "tf.truncated_normal(shape, mean=0.0, stddev=1.0, dtype=tf.float32, seed=None, name=None) # Keras doesn't have\n",
    "tf.random_uniform(shape, minval=0, maxval=None, dtype=tf.float32, seed=None, name=None)\n",
    "tf.random_shuffle(value, seed=None, name=None) # Keras doesn't have\n",
    "tf.random_crop(value, size, seed=None, name=None) # Keras doesn't have\n",
    "tf.multinomial(logits, num_samples, seed=None, name=None) # Keras doesn't have\n",
    "tf.random_gamma(shape, alpha, beta=None, dtype=tf.float32, seed=None, name=None) # Keras doesn't have\n",
    "tf.set_random_seed(seed) # Keras doesn't have\n",
    "\"\"\"\n",
    "\n",
    "x1 = tf.random_normal((2,3))\n",
    "print eval(x1)\n",
    "x2 = tf.random_uniform((2,3))\n",
    "print eval(x2)\n",
    "\n",
    "x1 = K.random_normal((2,3))\n",
    "print eval(x1)\n",
    "x2 = K.random_uniform((2,3))\n",
    "print eval(x2)"
   ]
  },
  {
   "cell_type": "code",
   "execution_count": 9,
   "metadata": {
    "collapsed": false,
    "deletable": true,
    "editable": true
   },
   "outputs": [
    {
     "name": "stdout",
     "output_type": "stream",
     "text": [
      "[ 7 10]\n",
      "[ 7 10]\n"
     ]
    }
   ],
   "source": [
    "\"\"\"TensorFlow Operations\"\"\"\n",
    "\n",
    "a = tf.constant([3, 6])\n",
    "b = tf.constant([2, 2])\n",
    "x1 = tf.add(a, b)  # >> [5 8]\n",
    "x2 = tf.add_n([a, b, b])  # >> [7 10]. Equivalent to a + b + b\n",
    "# x3 = tf.multiply(a, b)  # >> [6 12] because mul is element wise\n",
    "# x4 = tf.matmul(a, b)  # >> ValueError\n",
    "x5 = tf.matmul(tf.reshape(a, [1, 2]), tf.reshape(b, [2, 1]))  # >> [[18]]\n",
    "x6 = tf.div(a, b)  # >> [1 3]\n",
    "x7 = tf.mod(a, b)  # >> [1 0]\n",
    "print eval(x2)\n",
    "\n",
    "# Keras does not have operations like TensorFlow, so we should use TensorFlow operation instead\n",
    "a = K.variable([3, 6])\n",
    "b = K.variable([2, 2])\n",
    "x1 = tf.add(a, b)\n",
    "x2 = tf.add_n([a, b, b])\n",
    "print K.eval(x2).astype('int32')"
   ]
  },
  {
   "cell_type": "code",
   "execution_count": 17,
   "metadata": {
    "collapsed": false,
    "deletable": true,
    "editable": true
   },
   "outputs": [
    {
     "name": "stdout",
     "output_type": "stream",
     "text": [
      "0\n",
      "1\n",
      "['' '' '']\n",
      "[[False False False]\n",
      " [False False False]\n",
      " [False False False]]\n",
      "[[ True  True  True]\n",
      " [ True  True  True]\n",
      " [ True  True  True]]\n"
     ]
    }
   ],
   "source": [
    "\"\"\"TensorFlow Data Types\n",
    "TensorFlow takes Python natives types: boolean, numeric (int, float), strings\n",
    "\"\"\"\n",
    "\n",
    "# 0-d tensor, or \"scalar\" \n",
    "t_0 = 19\n",
    "print eval(tf.zeros_like(t_0)) # ==> 0\n",
    "print eval(tf.ones_like(t_0)) # ==> 1\n",
    "\n",
    "# 1-d tensor, or \"vector\"\n",
    "t_1 = ['apple', 'peach', 'banana']\n",
    "print eval(tf.zeros_like(t_1)) # ==> ???????\n",
    "\n",
    "# 2x2 tensor, or \"matrix\"\n",
    "t_2 = [[True, False, False],\n",
    " [False, False, True],\n",
    " [False, True, False]]\n",
    "print eval(tf.zeros_like(t_2)) # ==> 2x2 tensor, all elements are False\n",
    "print eval(tf.ones_like(t_2)) # ==> 2x2 tensor, all elements are True"
   ]
  },
  {
   "cell_type": "code",
   "execution_count": 26,
   "metadata": {
    "collapsed": false,
    "deletable": true,
    "editable": true
   },
   "outputs": [
    {
     "data": {
      "text/plain": [
       "array([[ 1.,  1.],\n",
       "       [ 1.,  1.]], dtype=float32)"
      ]
     },
     "execution_count": 26,
     "metadata": {},
     "output_type": "execute_result"
    }
   ],
   "source": [
    "\"\"\"TF vs NP Data Types\n",
    "- Do not use Python native types for tensors because TensorFlow has to infer Python\n",
    "type\n",
    "- Beware when using NumPy arrays because NumPy and TensorFlow might become not so compatible in the future!\n",
    "\"\"\"\n",
    "import numpy as np\n",
    "# TensorFlow integrates seamlessly with NumPy\n",
    "tf.int32 == np.int32 # True\n",
    "# Can pass numpy types to TensorFlow ops\n",
    "eval(tf.ones([2, 2], np.float32)) # ⇒ [[1.0 1.0], [1.0 1.0]]"
   ]
  },
  {
   "cell_type": "code",
   "execution_count": 30,
   "metadata": {
    "collapsed": false,
    "deletable": true,
    "editable": true
   },
   "outputs": [
    {
     "name": "stdout",
     "output_type": "stream",
     "text": [
      "node {\n",
      "  name: \"my_const\"\n",
      "  op: \"Const\"\n",
      "  attr {\n",
      "    key: \"dtype\"\n",
      "    value {\n",
      "      type: DT_FLOAT\n",
      "    }\n",
      "  }\n",
      "  attr {\n",
      "    key: \"value\"\n",
      "    value {\n",
      "      tensor {\n",
      "        dtype: DT_FLOAT\n",
      "        tensor_shape {\n",
      "          dim {\n",
      "            size: 2\n",
      "          }\n",
      "        }\n",
      "        tensor_content: \"\\000\\000\\200?\\000\\000\\000@\"\n",
      "      }\n",
      "    }\n",
      "  }\n",
      "}\n",
      "versions {\n",
      "  producer: 21\n",
      "}\n",
      "\n"
     ]
    }
   ],
   "source": [
    "\"\"\"Printout the Graph def\n",
    "\n",
    "Only use constants for primitive types.\n",
    "Use variables or readers for more data that\n",
    "requires more memory\n",
    "\"\"\"\n",
    "tf.reset_default_graph()\n",
    "\n",
    "my_const = tf.constant([1.0, 2.0], name=\"my_const\")\n",
    "\n",
    "with tf.Session() as sess:\n",
    "    print sess.graph.as_graph_def()"
   ]
  },
  {
   "cell_type": "code",
   "execution_count": 42,
   "metadata": {
    "collapsed": false,
    "deletable": true,
    "editable": true
   },
   "outputs": [
    {
     "name": "stdout",
     "output_type": "stream",
     "text": [
      "2\n",
      "[[ 0.  0.  0. ...,  0.  0.  0.]\n",
      " [ 0.  0.  0. ...,  0.  0.  0.]\n",
      " [ 0.  0.  0. ...,  0.  0.  0.]\n",
      " ..., \n",
      " [ 0.  0.  0. ...,  0.  0.  0.]\n",
      " [ 0.  0.  0. ...,  0.  0.  0.]\n",
      " [ 0.  0.  0. ...,  0.  0.  0.]]\n"
     ]
    }
   ],
   "source": [
    "\"\"\"How about variables?\"\"\"\n",
    "\n",
    "# create variable a with scalar value\n",
    "a = tf.Variable(2, name=\"scalar\")\n",
    "# create variable b as a vector\n",
    "b = tf.Variable([2, 3], name=\"vector\")\n",
    "# create variable c as a 2x2 matrix\n",
    "c = tf.Variable([[0, 1], [2, 3]], name=\"matrix\")\n",
    "# create variable W as 784 x 10 tensor, filled with zeros\n",
    "W = tf.Variable(tf.zeros([784,10]))\n",
    "\n",
    "# print eval(a) # will have error, will have to initialize in another way\n",
    "\n",
    "\"\"\"You have to initialize your variables\"\"\"\n",
    "# The easiest way is initializing all variables at once:\n",
    "init = tf.global_variables_initializer()\n",
    "with tf.Session() as sess:\n",
    "    sess.run(init)\n",
    "\n",
    "# Initialize only a subset of variables:\n",
    "init_ab = tf.variables_initializer([a, b], name=\"init_ab\")\n",
    "with tf.Session() as sess:\n",
    "    sess.run(init_ab)\n",
    "    print a.eval()\n",
    "    \n",
    "# Initialize a single variable\n",
    "W = tf.Variable(tf.zeros([784,10]))\n",
    "with tf.Session() as sess:\n",
    "    sess.run(W.initializer)\n",
    "    print W.eval()\n",
    "    \n",
    "# Keras automatically initialize all variables when K.eval(), we don't care much about this"
   ]
  },
  {
   "cell_type": "code",
   "execution_count": 7,
   "metadata": {
    "collapsed": false,
    "deletable": true,
    "editable": true
   },
   "outputs": [
    {
     "name": "stdout",
     "output_type": "stream",
     "text": [
      "10\n",
      "100\n",
      "4\n",
      "8\n",
      "16\n",
      "2.0\n",
      "4.0\n",
      "8.0\n"
     ]
    }
   ],
   "source": [
    "\"\"\"tf.Variable.assign()\"\"\"\n",
    "\n",
    "W = tf.Variable(10)\n",
    "W.assign(100)\n",
    "with tf.Session() as sess:\n",
    "    sess.run(W.initializer)\n",
    "    print W.eval()  # >> 10\n",
    "\n",
    "# --------\n",
    "\"\"\"W.assign(100) doesn’t assign the value 100\n",
    "to W. It creates an assign op, and that op\n",
    "needs to be run to take effect.\"\"\"\n",
    "\n",
    "W = tf.Variable(10)\n",
    "assign_op = W.assign(100)\n",
    "with tf.Session() as sess:\n",
    "    # sess.run(W.initializer)  # You don’t need to initialize variable because assign_op does it for you\n",
    "    sess.run(assign_op) \n",
    "    print W.eval()  # >> 100\n",
    "\n",
    "# create a variable whose original value is 2\n",
    "my_var = tf.Variable(2, name=\"my_var\")\n",
    "# assign a * 2 to a and call that op a_times_two\n",
    "my_var_times_two = my_var.assign(2 * my_var)\n",
    "\n",
    "with tf.Session() as sess:\n",
    "    sess.run(my_var.initializer)\n",
    "    print sess.run(my_var_times_two) # >> 4\n",
    "    print sess.run(my_var_times_two) # >> 8\n",
    "    print sess.run(my_var_times_two) # >> 16\n",
    "    \n",
    "# Keras\n",
    "\n",
    "my_kvar = K.variable(2, name='my_kvar')\n",
    "my_kvar_times_two = my_kvar.assign(2 * my_kvar)\n",
    "\n",
    "print K.eval(my_kvar)\n",
    "print K.eval(my_kvar_times_two)\n",
    "print K.eval(my_kvar_times_two)"
   ]
  },
  {
   "cell_type": "code",
   "execution_count": 8,
   "metadata": {
    "collapsed": false,
    "deletable": true,
    "editable": true
   },
   "outputs": [
    {
     "name": "stdout",
     "output_type": "stream",
     "text": [
      "None\n",
      "20\n",
      "18\n",
      "10.0\n",
      "20.0\n",
      "18.0\n"
     ]
    }
   ],
   "source": [
    "\"\"\"assign_add() and assign_sub()\"\"\"\n",
    "\n",
    "my_var = tf.Variable(10)\n",
    "with tf.Session() as sess:\n",
    "    print sess.run(my_var.initializer)\n",
    "    # increment by 10\n",
    "    print sess.run(my_var.assign_add(10)) # >> 20\n",
    "    # decrement by 2\n",
    "    print sess.run(my_var.assign_sub(2)) # >> 18\n",
    "    \n",
    "# Keras\n",
    "my_kvar = K.variable(10)\n",
    "print K.eval(my_kvar)\n",
    "print K.eval(my_kvar.assign_add(10))\n",
    "print K.eval(my_kvar.assign_sub(2))"
   ]
  },
  {
   "cell_type": "code",
   "execution_count": 9,
   "metadata": {
    "collapsed": false,
    "deletable": true,
    "editable": true
   },
   "outputs": [
    {
     "name": "stdout",
     "output_type": "stream",
     "text": [
      "20\n",
      "8\n",
      "120\n",
      "-42\n"
     ]
    }
   ],
   "source": [
    "\"\"\"Each session maintains its own copy of variable\"\"\"\n",
    "\n",
    "W = tf.Variable(10)\n",
    "sess1 = tf.Session()\n",
    "sess2 = tf.Session()\n",
    "sess1.run(W.initializer)\n",
    "sess2.run(W.initializer)\n",
    "print sess1.run(W.assign_add(10)) # >> 20\n",
    "print sess2.run(W.assign_sub(2)) # >> 8\n",
    "print sess1.run(W.assign_add(100)) # >> 120\n",
    "print sess2.run(W.assign_sub(50)) # >> -42\n",
    "sess1.close()\n",
    "sess2.close()"
   ]
  },
  {
   "cell_type": "code",
   "execution_count": 26,
   "metadata": {
    "collapsed": false,
    "deletable": true,
    "editable": true
   },
   "outputs": [
    {
     "name": "stdout",
     "output_type": "stream",
     "text": [
      "[[ 0.97359836  0.8813414   3.01833415 ...,  2.26067066  1.15427721\n",
      "   2.91136003]\n",
      " [-1.2266953  -1.38249469  0.5946216  ...,  1.84884286  1.0035181\n",
      "   2.70322084]\n",
      " [-0.97677541 -0.25401503  1.87833726 ...,  2.44167018  2.44995737\n",
      "  -0.28475642]\n",
      " ..., \n",
      " [ 1.62976933 -2.96452689  0.30112812 ...,  1.36951935  0.1850547\n",
      "   2.46214271]\n",
      " [-1.26830709 -1.14958024 -0.04049495 ...,  0.91509944  0.687747\n",
      "   0.41758695]\n",
      " [ 2.04626989  0.70260978 -0.50159144 ..., -0.36819997  3.71318197\n",
      "  -2.47867203]]\n",
      "[[ 0.33436131 -1.27145898  0.44782084 ..., -1.38956022  0.99035555\n",
      "   1.25545251]\n",
      " [-2.62990093 -0.08680313 -0.0349321  ...,  1.15094924 -0.1765009\n",
      "  -0.9430725 ]\n",
      " [ 0.15960066  1.31463027  2.21136832 ..., -0.92541623  1.2637248\n",
      "  -1.21196127]\n",
      " ..., \n",
      " [-0.25661144 -0.96694374 -2.522403   ..., -2.38207769 -3.5871284\n",
      "  -0.78476524]\n",
      " [ 0.6510753   2.27234244  0.93697429 ..., -0.59740782 -3.04257941\n",
      "  -0.63806444]\n",
      " [-0.44995219 -2.65151095  2.66072655 ...,  0.46368223 -3.05945683\n",
      "  -1.69586933]]\n",
      "[[ 0.6600163  -0.01508508  0.53511983 ..., -1.56472421 -0.19749503\n",
      "  -0.3775312 ]\n",
      " [ 0.9659732   0.73436272 -1.62672246 ..., -1.95810854 -0.67062539\n",
      "  -1.34439266]\n",
      " [ 0.88525701  0.88061053  0.68340093 ...,  0.48736027  0.3956916\n",
      "  -0.7034288 ]\n",
      " ..., \n",
      " [ 1.42568171 -1.20927155  1.76387858 ...,  0.78554624 -0.50033188\n",
      "  -0.02426053]\n",
      " [ 1.1008476   1.44908845 -0.38996503 ..., -0.30945688 -0.97822648\n",
      "   1.15868604]\n",
      " [-0.39857936 -0.68772054 -1.04896116 ...,  1.25977147  0.10668592\n",
      "  -1.92128909]]\n",
      "[[ 1.3200326  -0.03017015  1.07023966 ..., -3.12944841 -0.39499006\n",
      "  -0.7550624 ]\n",
      " [ 1.9319464   1.46872544 -3.25344491 ..., -3.91621709 -1.34125078\n",
      "  -2.68878531]\n",
      " [ 1.77051401  1.76122105  1.36680186 ...,  0.97472054  0.79138321\n",
      "  -1.40685761]\n",
      " ..., \n",
      " [ 2.85136342 -2.4185431   3.52775717 ...,  1.57109249 -1.00066376\n",
      "  -0.04852107]\n",
      " [ 2.2016952   2.89817691 -0.77993006 ..., -0.61891377 -1.95645297\n",
      "   2.31737208]\n",
      " [-0.79715872 -1.37544107 -2.09792233 ...,  2.51954293  0.21337184\n",
      "  -3.84257817]]\n"
     ]
    }
   ],
   "source": [
    "\"\"\"Use a variable to initialize another variable\"\"\"\n",
    "\n",
    "# W is a random 700 x 100 tensor\n",
    "W = tf.Variable(tf.truncated_normal([700, 10]))\n",
    "U = tf.Variable(2 * W.initialized_value())\n",
    "\n",
    "print eval(U.initialized_value())\n",
    "\n",
    "# Mix Keras and TF\n",
    "print K.eval(U)\n",
    "\n",
    "# Keras\n",
    "W_k = K.variable(tf.truncated_normal([700, 10]))\n",
    "U_k = K.variable(2 * W_k.initialized_value())\n",
    "\n",
    "print K.eval(W_k)\n",
    "print K.eval(U_k)"
   ]
  },
  {
   "cell_type": "code",
   "execution_count": 31,
   "metadata": {
    "collapsed": false,
    "deletable": true,
    "editable": true
   },
   "outputs": [
    {
     "name": "stdout",
     "output_type": "stream",
     "text": [
      "30.0\n"
     ]
    },
    {
     "data": {
      "text/plain": [
       "30.0"
      ]
     },
     "execution_count": 31,
     "metadata": {},
     "output_type": "execute_result"
    }
   ],
   "source": [
    "\"\"\"Session vs InteractiveSession\"\"\"\n",
    "\n",
    "sess = tf.InteractiveSession()\n",
    "a = tf.constant(5.0)\n",
    "b = tf.constant(6.0)\n",
    "c = a * b\n",
    "# We can just use 'c.eval()' without specifying the context 'sess'\n",
    "print(c.eval())\n",
    "sess.close()\n",
    "\n",
    "# Keras\n",
    "a = K.variable(5.)\n",
    "b = K.variable(6.)\n",
    "c = a * b\n",
    "print K.eval(c)"
   ]
  },
  {
   "cell_type": "code",
   "execution_count": 34,
   "metadata": {
    "collapsed": false,
    "deletable": true,
    "editable": true
   },
   "outputs": [
    {
     "name": "stdout",
     "output_type": "stream",
     "text": [
      "[ 6.  7.  8.]\n",
      "[ 6.  7.  8.]\n"
     ]
    }
   ],
   "source": [
    "\"\"\"Placeholders\n",
    "tf.placeholder(dtype, shape=None, name=None)\"\"\"\n",
    "\n",
    "# create a placeholder of type float 32-bit, shape is a vector of 3 elements\n",
    "a = tf.placeholder(tf.float32, shape=[3])\n",
    "# create a constant of type float 32-bit, shape is a vector of 3 elements\n",
    "b = tf.constant([5, 5, 5], tf.float32)\n",
    "# use the placeholder as you would a constant or a variable\n",
    "c = a + b # Short for tf.add(a, b)\n",
    "\n",
    "with tf.Session() as sess:\n",
    "    # print sess.run(c) # Error because a doesn’t have any value\n",
    "    \n",
    "    # feed [1, 2, 3] to placeholder a via the dict {a: [1, 2, 3]}\n",
    "    # fetch value of c\n",
    "    print sess.run(c, {a: [1, 2, 3]}) # the tensor a is the key, not the string ‘a’\n",
    "    \n",
    "    # or you can feed in this way:\n",
    "    print sess.run(c, feed_dict={a: [1, 2, 3]})"
   ]
  },
  {
   "cell_type": "code",
   "execution_count": 5,
   "metadata": {
    "collapsed": false,
    "deletable": true,
    "editable": true
   },
   "outputs": [
    {
     "name": "stdout",
     "output_type": "stream",
     "text": [
      "30.0\n",
      "30.0\n",
      "30.0\n",
      "30.0\n",
      "30.0\n",
      "30.0\n",
      "30.0\n",
      "30.0\n",
      "30.0\n",
      "30.0\n"
     ]
    }
   ],
   "source": [
    "\"\"\"Lazy Loading\"\"\"\n",
    "\n",
    "# Normal loading:\n",
    "x = tf.Variable(10, name='x')\n",
    "y = tf.Variable(20, name='y')\n",
    "z = tf.add(x, y) # you create the node for add node before executing the graph\n",
    "\n",
    "with tf.Session() as sess:\n",
    "    sess.run(tf.global_variables_initializer())\n",
    "    writer = tf.summary.FileWriter('./my_graph/l2', sess.graph)\n",
    "    for _ in range(10):\n",
    "        print sess.run(z)\n",
    "    writer.close()\n",
    "    \n",
    "# Lazy loading:\n",
    "x = tf.Variable(10, name='x')\n",
    "y = tf.Variable(20, name='y')\n",
    "\n",
    "with tf.Session() as sess:\n",
    "    sess.run(tf.global_variables_initializer())\n",
    "    writer = tf.summary.FileWriter('./my_graph/l2', sess.graph)\n",
    "    for _ in range(10):\n",
    "        print sess.run(tf.add(x, y)) # someone decides to be clever to save one line of code\n",
    "    writer.close()\n",
    "\n",
    "# Keras\n",
    "x = K.variable(10, name='x')\n",
    "y = K.variable(20, name='y')\n",
    "\n",
    "for _ in range(10):\n",
    "    print K.eval(x + y)"
   ]
  }
 ],
 "metadata": {
  "kernelspec": {
   "display_name": "Python 2",
   "language": "python",
   "name": "python2"
  },
  "language_info": {
   "codemirror_mode": {
    "name": "ipython",
    "version": 2
   },
   "file_extension": ".py",
   "mimetype": "text/x-python",
   "name": "python",
   "nbconvert_exporter": "python",
   "pygments_lexer": "ipython2",
   "version": "2.7.13"
  }
 },
 "nbformat": 4,
 "nbformat_minor": 0
}
